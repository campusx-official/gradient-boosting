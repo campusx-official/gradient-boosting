{
  "nbformat": 4,
  "nbformat_minor": 0,
  "metadata": {
    "colab": {
      "name": "gradient-boost-step-by-step.ipynb",
      "provenance": []
    },
    "kernelspec": {
      "name": "python3",
      "display_name": "Python 3"
    },
    "language_info": {
      "name": "python"
    }
  },
  "cells": [
    {
      "cell_type": "code",
      "metadata": {
        "id": "uZCSNIawbQKr"
      },
      "source": [
        "import numpy as np\n",
        "import matplotlib.pyplot as plt"
      ],
      "execution_count": 1,
      "outputs": []
    },
    {
      "cell_type": "code",
      "metadata": {
        "id": "IfLejin3bVGL"
      },
      "source": [
        "np.random.seed(42)\n",
        "X = np.random.rand(100, 1) - 0.5\n",
        "y = 3*X[:, 0]**2 + 0.05 * np.random.randn(100)"
      ],
      "execution_count": 2,
      "outputs": []
    },
    {
      "cell_type": "code",
      "metadata": {
        "id": "sMHXeN3kbWlw"
      },
      "source": [
        "import pandas as pd"
      ],
      "execution_count": 3,
      "outputs": []
    },
    {
      "cell_type": "code",
      "metadata": {
        "id": "0jJoztbUbYW7"
      },
      "source": [
        "df = pd.DataFrame()"
      ],
      "execution_count": 4,
      "outputs": []
    },
    {
      "cell_type": "code",
      "metadata": {
        "id": "lHEpruVAbbG3"
      },
      "source": [
        "df['X'] = X.reshape(100)\n",
        "df['y'] = y"
      ],
      "execution_count": 5,
      "outputs": []
    },
    {
      "cell_type": "code",
      "metadata": {
        "colab": {
          "base_uri": "https://localhost:8080/",
          "height": 408
        },
        "id": "p4nfMcL1beac",
        "outputId": "cea170e6-c8d3-4669-88ba-5d8c3a9bf4a9"
      },
      "source": [
        "df"
      ],
      "execution_count": 6,
      "outputs": [
        {
          "output_type": "execute_result",
          "data": {
            "text/html": [
              "<div>\n",
              "<style scoped>\n",
              "    .dataframe tbody tr th:only-of-type {\n",
              "        vertical-align: middle;\n",
              "    }\n",
              "\n",
              "    .dataframe tbody tr th {\n",
              "        vertical-align: top;\n",
              "    }\n",
              "\n",
              "    .dataframe thead th {\n",
              "        text-align: right;\n",
              "    }\n",
              "</style>\n",
              "<table border=\"1\" class=\"dataframe\">\n",
              "  <thead>\n",
              "    <tr style=\"text-align: right;\">\n",
              "      <th></th>\n",
              "      <th>X</th>\n",
              "      <th>y</th>\n",
              "    </tr>\n",
              "  </thead>\n",
              "  <tbody>\n",
              "    <tr>\n",
              "      <th>0</th>\n",
              "      <td>-0.125460</td>\n",
              "      <td>0.051573</td>\n",
              "    </tr>\n",
              "    <tr>\n",
              "      <th>1</th>\n",
              "      <td>0.450714</td>\n",
              "      <td>0.594480</td>\n",
              "    </tr>\n",
              "    <tr>\n",
              "      <th>2</th>\n",
              "      <td>0.231994</td>\n",
              "      <td>0.166052</td>\n",
              "    </tr>\n",
              "    <tr>\n",
              "      <th>3</th>\n",
              "      <td>0.098658</td>\n",
              "      <td>-0.070178</td>\n",
              "    </tr>\n",
              "    <tr>\n",
              "      <th>4</th>\n",
              "      <td>-0.343981</td>\n",
              "      <td>0.343986</td>\n",
              "    </tr>\n",
              "    <tr>\n",
              "      <th>...</th>\n",
              "      <td>...</td>\n",
              "      <td>...</td>\n",
              "    </tr>\n",
              "    <tr>\n",
              "      <th>95</th>\n",
              "      <td>-0.006204</td>\n",
              "      <td>-0.040675</td>\n",
              "    </tr>\n",
              "    <tr>\n",
              "      <th>96</th>\n",
              "      <td>0.022733</td>\n",
              "      <td>-0.002305</td>\n",
              "    </tr>\n",
              "    <tr>\n",
              "      <th>97</th>\n",
              "      <td>-0.072459</td>\n",
              "      <td>0.032809</td>\n",
              "    </tr>\n",
              "    <tr>\n",
              "      <th>98</th>\n",
              "      <td>-0.474581</td>\n",
              "      <td>0.689516</td>\n",
              "    </tr>\n",
              "    <tr>\n",
              "      <th>99</th>\n",
              "      <td>-0.392109</td>\n",
              "      <td>0.502607</td>\n",
              "    </tr>\n",
              "  </tbody>\n",
              "</table>\n",
              "<p>100 rows × 2 columns</p>\n",
              "</div>"
            ],
            "text/plain": [
              "           X         y\n",
              "0  -0.125460  0.051573\n",
              "1   0.450714  0.594480\n",
              "2   0.231994  0.166052\n",
              "3   0.098658 -0.070178\n",
              "4  -0.343981  0.343986\n",
              "..       ...       ...\n",
              "95 -0.006204 -0.040675\n",
              "96  0.022733 -0.002305\n",
              "97 -0.072459  0.032809\n",
              "98 -0.474581  0.689516\n",
              "99 -0.392109  0.502607\n",
              "\n",
              "[100 rows x 2 columns]"
            ]
          },
          "metadata": {
            "tags": []
          },
          "execution_count": 6
        }
      ]
    },
    {
      "cell_type": "code",
      "metadata": {
        "id": "GbiTrFJZbiWY"
      },
      "source": [
        "df['pre1'] = df['y'].mean()"
      ],
      "execution_count": 7,
      "outputs": []
    },
    {
      "cell_type": "code",
      "metadata": {
        "colab": {
          "base_uri": "https://localhost:8080/",
          "height": 408
        },
        "id": "8XuACSn-bvev",
        "outputId": "32dd9216-2db5-4af7-a0a7-8269f1d601d5"
      },
      "source": [
        "df"
      ],
      "execution_count": 8,
      "outputs": [
        {
          "output_type": "execute_result",
          "data": {
            "text/html": [
              "<div>\n",
              "<style scoped>\n",
              "    .dataframe tbody tr th:only-of-type {\n",
              "        vertical-align: middle;\n",
              "    }\n",
              "\n",
              "    .dataframe tbody tr th {\n",
              "        vertical-align: top;\n",
              "    }\n",
              "\n",
              "    .dataframe thead th {\n",
              "        text-align: right;\n",
              "    }\n",
              "</style>\n",
              "<table border=\"1\" class=\"dataframe\">\n",
              "  <thead>\n",
              "    <tr style=\"text-align: right;\">\n",
              "      <th></th>\n",
              "      <th>X</th>\n",
              "      <th>y</th>\n",
              "      <th>pre1</th>\n",
              "    </tr>\n",
              "  </thead>\n",
              "  <tbody>\n",
              "    <tr>\n",
              "      <th>0</th>\n",
              "      <td>-0.125460</td>\n",
              "      <td>0.051573</td>\n",
              "      <td>0.265458</td>\n",
              "    </tr>\n",
              "    <tr>\n",
              "      <th>1</th>\n",
              "      <td>0.450714</td>\n",
              "      <td>0.594480</td>\n",
              "      <td>0.265458</td>\n",
              "    </tr>\n",
              "    <tr>\n",
              "      <th>2</th>\n",
              "      <td>0.231994</td>\n",
              "      <td>0.166052</td>\n",
              "      <td>0.265458</td>\n",
              "    </tr>\n",
              "    <tr>\n",
              "      <th>3</th>\n",
              "      <td>0.098658</td>\n",
              "      <td>-0.070178</td>\n",
              "      <td>0.265458</td>\n",
              "    </tr>\n",
              "    <tr>\n",
              "      <th>4</th>\n",
              "      <td>-0.343981</td>\n",
              "      <td>0.343986</td>\n",
              "      <td>0.265458</td>\n",
              "    </tr>\n",
              "    <tr>\n",
              "      <th>...</th>\n",
              "      <td>...</td>\n",
              "      <td>...</td>\n",
              "      <td>...</td>\n",
              "    </tr>\n",
              "    <tr>\n",
              "      <th>95</th>\n",
              "      <td>-0.006204</td>\n",
              "      <td>-0.040675</td>\n",
              "      <td>0.265458</td>\n",
              "    </tr>\n",
              "    <tr>\n",
              "      <th>96</th>\n",
              "      <td>0.022733</td>\n",
              "      <td>-0.002305</td>\n",
              "      <td>0.265458</td>\n",
              "    </tr>\n",
              "    <tr>\n",
              "      <th>97</th>\n",
              "      <td>-0.072459</td>\n",
              "      <td>0.032809</td>\n",
              "      <td>0.265458</td>\n",
              "    </tr>\n",
              "    <tr>\n",
              "      <th>98</th>\n",
              "      <td>-0.474581</td>\n",
              "      <td>0.689516</td>\n",
              "      <td>0.265458</td>\n",
              "    </tr>\n",
              "    <tr>\n",
              "      <th>99</th>\n",
              "      <td>-0.392109</td>\n",
              "      <td>0.502607</td>\n",
              "      <td>0.265458</td>\n",
              "    </tr>\n",
              "  </tbody>\n",
              "</table>\n",
              "<p>100 rows × 3 columns</p>\n",
              "</div>"
            ],
            "text/plain": [
              "           X         y      pre1\n",
              "0  -0.125460  0.051573  0.265458\n",
              "1   0.450714  0.594480  0.265458\n",
              "2   0.231994  0.166052  0.265458\n",
              "3   0.098658 -0.070178  0.265458\n",
              "4  -0.343981  0.343986  0.265458\n",
              "..       ...       ...       ...\n",
              "95 -0.006204 -0.040675  0.265458\n",
              "96  0.022733 -0.002305  0.265458\n",
              "97 -0.072459  0.032809  0.265458\n",
              "98 -0.474581  0.689516  0.265458\n",
              "99 -0.392109  0.502607  0.265458\n",
              "\n",
              "[100 rows x 3 columns]"
            ]
          },
          "metadata": {
            "tags": []
          },
          "execution_count": 8
        }
      ]
    },
    {
      "cell_type": "code",
      "metadata": {
        "id": "dUIy2RxobwVr"
      },
      "source": [
        "df['res1'] = df['y'] - df['pre1']"
      ],
      "execution_count": 9,
      "outputs": []
    },
    {
      "cell_type": "code",
      "metadata": {
        "colab": {
          "base_uri": "https://localhost:8080/",
          "height": 408
        },
        "id": "38KvYW9Sb5B-",
        "outputId": "18555d34-6f14-4070-f9ab-e9dfb90ed217"
      },
      "source": [
        "df"
      ],
      "execution_count": 10,
      "outputs": [
        {
          "output_type": "execute_result",
          "data": {
            "text/html": [
              "<div>\n",
              "<style scoped>\n",
              "    .dataframe tbody tr th:only-of-type {\n",
              "        vertical-align: middle;\n",
              "    }\n",
              "\n",
              "    .dataframe tbody tr th {\n",
              "        vertical-align: top;\n",
              "    }\n",
              "\n",
              "    .dataframe thead th {\n",
              "        text-align: right;\n",
              "    }\n",
              "</style>\n",
              "<table border=\"1\" class=\"dataframe\">\n",
              "  <thead>\n",
              "    <tr style=\"text-align: right;\">\n",
              "      <th></th>\n",
              "      <th>X</th>\n",
              "      <th>y</th>\n",
              "      <th>pre1</th>\n",
              "      <th>res1</th>\n",
              "    </tr>\n",
              "  </thead>\n",
              "  <tbody>\n",
              "    <tr>\n",
              "      <th>0</th>\n",
              "      <td>-0.125460</td>\n",
              "      <td>0.051573</td>\n",
              "      <td>0.265458</td>\n",
              "      <td>-0.213885</td>\n",
              "    </tr>\n",
              "    <tr>\n",
              "      <th>1</th>\n",
              "      <td>0.450714</td>\n",
              "      <td>0.594480</td>\n",
              "      <td>0.265458</td>\n",
              "      <td>0.329021</td>\n",
              "    </tr>\n",
              "    <tr>\n",
              "      <th>2</th>\n",
              "      <td>0.231994</td>\n",
              "      <td>0.166052</td>\n",
              "      <td>0.265458</td>\n",
              "      <td>-0.099407</td>\n",
              "    </tr>\n",
              "    <tr>\n",
              "      <th>3</th>\n",
              "      <td>0.098658</td>\n",
              "      <td>-0.070178</td>\n",
              "      <td>0.265458</td>\n",
              "      <td>-0.335636</td>\n",
              "    </tr>\n",
              "    <tr>\n",
              "      <th>4</th>\n",
              "      <td>-0.343981</td>\n",
              "      <td>0.343986</td>\n",
              "      <td>0.265458</td>\n",
              "      <td>0.078528</td>\n",
              "    </tr>\n",
              "    <tr>\n",
              "      <th>...</th>\n",
              "      <td>...</td>\n",
              "      <td>...</td>\n",
              "      <td>...</td>\n",
              "      <td>...</td>\n",
              "    </tr>\n",
              "    <tr>\n",
              "      <th>95</th>\n",
              "      <td>-0.006204</td>\n",
              "      <td>-0.040675</td>\n",
              "      <td>0.265458</td>\n",
              "      <td>-0.306133</td>\n",
              "    </tr>\n",
              "    <tr>\n",
              "      <th>96</th>\n",
              "      <td>0.022733</td>\n",
              "      <td>-0.002305</td>\n",
              "      <td>0.265458</td>\n",
              "      <td>-0.267763</td>\n",
              "    </tr>\n",
              "    <tr>\n",
              "      <th>97</th>\n",
              "      <td>-0.072459</td>\n",
              "      <td>0.032809</td>\n",
              "      <td>0.265458</td>\n",
              "      <td>-0.232650</td>\n",
              "    </tr>\n",
              "    <tr>\n",
              "      <th>98</th>\n",
              "      <td>-0.474581</td>\n",
              "      <td>0.689516</td>\n",
              "      <td>0.265458</td>\n",
              "      <td>0.424057</td>\n",
              "    </tr>\n",
              "    <tr>\n",
              "      <th>99</th>\n",
              "      <td>-0.392109</td>\n",
              "      <td>0.502607</td>\n",
              "      <td>0.265458</td>\n",
              "      <td>0.237148</td>\n",
              "    </tr>\n",
              "  </tbody>\n",
              "</table>\n",
              "<p>100 rows × 4 columns</p>\n",
              "</div>"
            ],
            "text/plain": [
              "           X         y      pre1      res1\n",
              "0  -0.125460  0.051573  0.265458 -0.213885\n",
              "1   0.450714  0.594480  0.265458  0.329021\n",
              "2   0.231994  0.166052  0.265458 -0.099407\n",
              "3   0.098658 -0.070178  0.265458 -0.335636\n",
              "4  -0.343981  0.343986  0.265458  0.078528\n",
              "..       ...       ...       ...       ...\n",
              "95 -0.006204 -0.040675  0.265458 -0.306133\n",
              "96  0.022733 -0.002305  0.265458 -0.267763\n",
              "97 -0.072459  0.032809  0.265458 -0.232650\n",
              "98 -0.474581  0.689516  0.265458  0.424057\n",
              "99 -0.392109  0.502607  0.265458  0.237148\n",
              "\n",
              "[100 rows x 4 columns]"
            ]
          },
          "metadata": {
            "tags": []
          },
          "execution_count": 10
        }
      ]
    },
    {
      "cell_type": "code",
      "metadata": {
        "colab": {
          "base_uri": "https://localhost:8080/",
          "height": 298
        },
        "id": "w-A7Ie3FcuSz",
        "outputId": "016f5488-d5a4-44cb-caaa-16e16941c664"
      },
      "source": [
        "plt.figure(figsize=(14,4))\n",
        "plt.subplot(121)\n",
        "plt.scatter(df['X'],df['y'])\n",
        "plt.title('X vs Y')\n",
        "\n",
        "plt.subplot(122)\n",
        "plt.scatter(df['X'],df['res1'])\n",
        "plt.title('X vs res1')\n",
        "\n"
      ],
      "execution_count": 51,
      "outputs": [
        {
          "output_type": "execute_result",
          "data": {
            "text/plain": [
              "Text(0.5, 1.0, 'X vs res1')"
            ]
          },
          "metadata": {
            "tags": []
          },
          "execution_count": 51
        },
        {
          "output_type": "display_data",
          "data": {
            "image/png": "[encoded data removed]",
            "text/plain": [
              "<Figure size 1008x288 with 2 Axes>"
            ]
          },
          "metadata": {
            "tags": [],
            "needs_background": "light"
          }
        }
      ]
    },
    {
      "cell_type": "code",
      "metadata": {
        "id": "w-ocxPrbb5_N"
      },
      "source": [
        "from sklearn.tree import DecisionTreeRegressor"
      ],
      "execution_count": 11,
      "outputs": []
    },
    {
      "cell_type": "code",
      "metadata": {
        "id": "AHu918SIcS9v"
      },
      "source": [
        "tree1 = DecisionTreeRegressor(max_leaf_nodes=8)"
      ],
      "execution_count": 12,
      "outputs": []
    },
    {
      "cell_type": "code",
      "metadata": {
        "colab": {
          "base_uri": "https://localhost:8080/"
        },
        "id": "RsGgZjNAcXz3",
        "outputId": "7da9cc57-6b74-4dcc-f959-eecc2d4cdef5"
      },
      "source": [
        "tree1.fit(df['X'].values.reshape(100,1),df['res1'].values)"
      ],
      "execution_count": 13,
      "outputs": [
        {
          "output_type": "execute_result",
          "data": {
            "text/plain": [
              "DecisionTreeRegressor(ccp_alpha=0.0, criterion='mse', max_depth=None,\n",
              "                      max_features=None, max_leaf_nodes=8,\n",
              "                      min_impurity_decrease=0.0, min_impurity_split=None,\n",
              "                      min_samples_leaf=1, min_samples_split=2,\n",
              "                      min_weight_fraction_leaf=0.0, presort='deprecated',\n",
              "                      random_state=None, splitter='best')"
            ]
          },
          "metadata": {
            "tags": []
          },
          "execution_count": 13
        }
      ]
    },
    {
      "cell_type": "code",
      "metadata": {
        "colab": {
          "base_uri": "https://localhost:8080/",
          "height": 507
        },
        "id": "qah9L_-aJ4_f",
        "outputId": "fab534c3-77f3-4897-e87b-380bd3b3900c"
      },
      "source": [
        "from sklearn.tree import plot_tree\n",
        "plot_tree(tree1)"
      ],
      "execution_count": 14,
      "outputs": [
        {
          "output_type": "execute_result",
          "data": {
            "text/plain": [
              "[Text(136.96363636363637, 199.32, 'X[0] <= -0.36\\nmse = 0.056\\nsamples = 100\\nvalue = -0.0'),\n",
              " Text(60.872727272727275, 163.07999999999998, 'X[0] <= -0.43\\nmse = 0.012\\nsamples = 18\\nvalue = 0.309'),\n",
              " Text(30.436363636363637, 126.83999999999999, 'mse = 0.004\\nsamples = 9\\nvalue = 0.395'),\n",
              " Text(91.30909090909091, 126.83999999999999, 'mse = 0.005\\nsamples = 9\\nvalue = 0.222'),\n",
              " Text(213.05454545454546, 163.07999999999998, 'X[0] <= 0.322\\nmse = 0.04\\nsamples = 82\\nvalue = -0.068'),\n",
              " Text(152.1818181818182, 126.83999999999999, 'X[0] <= -0.235\\nmse = 0.016\\nsamples = 67\\nvalue = -0.142'),\n",
              " Text(121.74545454545455, 90.6, 'mse = 0.003\\nsamples = 12\\nvalue = 0.041'),\n",
              " Text(182.61818181818182, 90.6, 'X[0] <= 0.211\\nmse = 0.009\\nsamples = 55\\nvalue = -0.182'),\n",
              " Text(152.1818181818182, 54.359999999999985, 'X[0] <= -0.172\\nmse = 0.005\\nsamples = 42\\nvalue = -0.223'),\n",
              " Text(121.74545454545455, 18.119999999999976, 'mse = 0.002\\nsamples = 10\\nvalue = -0.144'),\n",
              " Text(182.61818181818182, 18.119999999999976, 'mse = 0.003\\nsamples = 32\\nvalue = -0.247'),\n",
              " Text(213.05454545454546, 54.359999999999985, 'mse = 0.002\\nsamples = 13\\nvalue = -0.05'),\n",
              " Text(273.92727272727274, 126.83999999999999, 'X[0] <= 0.402\\nmse = 0.013\\nsamples = 15\\nvalue = 0.263'),\n",
              " Text(243.4909090909091, 90.6, 'mse = 0.005\\nsamples = 6\\nvalue = 0.147'),\n",
              " Text(304.3636363636364, 90.6, 'mse = 0.004\\nsamples = 9\\nvalue = 0.34')]"
            ]
          },
          "metadata": {
            "tags": []
          },
          "execution_count": 14
        },
        {
          "output_type": "display_data",
          "data": {
            "image/png": "[encoded data removed]",
            "text/plain": [
              "<Figure size 432x288 with 1 Axes>"
            ]
          },
          "metadata": {
            "tags": [],
            "needs_background": "light"
          }
        }
      ]
    },
    {
      "cell_type": "code",
      "metadata": {
        "id": "IdFPanXnciQ3"
      },
      "source": [
        "# generating X_test\n",
        "X_test = np.linspace(-0.5, 0.5, 500)"
      ],
      "execution_count": 19,
      "outputs": []
    },
    {
      "cell_type": "code",
      "metadata": {
        "id": "Tzu0mK9Xe8dn"
      },
      "source": [
        "y_pred = 0.265458 + tree1.predict(X_test.reshape(500, 1))"
      ],
      "execution_count": 25,
      "outputs": []
    },
    {
      "cell_type": "code",
      "metadata": {
        "colab": {
          "base_uri": "https://localhost:8080/"
        },
        "id": "B6-mVKjHLGDa",
        "outputId": "dab9d856-be77-4bc2-a800-7411cee840bc"
      },
      "source": [
        "y_pred.shape"
      ],
      "execution_count": 26,
      "outputs": [
        {
          "output_type": "execute_result",
          "data": {
            "text/plain": [
              "(500,)"
            ]
          },
          "metadata": {
            "tags": []
          },
          "execution_count": 26
        }
      ]
    },
    {
      "cell_type": "code",
      "metadata": {
        "colab": {
          "base_uri": "https://localhost:8080/",
          "height": 298
        },
        "id": "88mvQQ_UfVBO",
        "outputId": "6bf57600-7675-41b7-d155-ae606026f3cf"
      },
      "source": [
        "plt.figure(figsize=(14,4))\n",
        "plt.subplot(121)\n",
        "plt.plot(X_test, y_pred, linewidth=2,color='red')\n",
        "plt.scatter(df['X'],df['y'])\n",
        "plt.title('X vs y')"
      ],
      "execution_count": 27,
      "outputs": [
        {
          "output_type": "execute_result",
          "data": {
            "text/plain": [
              "Text(0.5, 1.0, 'X vs y')"
            ]
          },
          "metadata": {
            "tags": []
          },
          "execution_count": 27
        },
        {
          "output_type": "display_data",
          "data": {
            "image/png": "[encoded data removed]",
            "text/plain": [
              "<Figure size 1008x288 with 1 Axes>"
            ]
          },
          "metadata": {
            "tags": [],
            "needs_background": "light"
          }
        }
      ]
    },
    {
      "cell_type": "code",
      "metadata": {
        "id": "NXhf93RSfnfO"
      },
      "source": [
        "df['pre2'] = 0.265458 + tree1.predict(df['X'].values.reshape(100,1))"
      ],
      "execution_count": 16,
      "outputs": []
    },
    {
      "cell_type": "code",
      "metadata": {
        "colab": {
          "base_uri": "https://localhost:8080/",
          "height": 408
        },
        "id": "YKf7AMhwidKy",
        "outputId": "58752207-47c3-4a01-fcb8-b2af466419ae"
      },
      "source": [
        "df"
      ],
      "execution_count": 17,
      "outputs": [
        {
          "output_type": "execute_result",
          "data": {
            "text/html": [
              "<div>\n",
              "<style scoped>\n",
              "    .dataframe tbody tr th:only-of-type {\n",
              "        vertical-align: middle;\n",
              "    }\n",
              "\n",
              "    .dataframe tbody tr th {\n",
              "        vertical-align: top;\n",
              "    }\n",
              "\n",
              "    .dataframe thead th {\n",
              "        text-align: right;\n",
              "    }\n",
              "</style>\n",
              "<table border=\"1\" class=\"dataframe\">\n",
              "  <thead>\n",
              "    <tr style=\"text-align: right;\">\n",
              "      <th></th>\n",
              "      <th>X</th>\n",
              "      <th>y</th>\n",
              "      <th>pre1</th>\n",
              "      <th>res1</th>\n",
              "      <th>pre2</th>\n",
              "    </tr>\n",
              "  </thead>\n",
              "  <tbody>\n",
              "    <tr>\n",
              "      <th>0</th>\n",
              "      <td>-0.125460</td>\n",
              "      <td>0.051573</td>\n",
              "      <td>0.265458</td>\n",
              "      <td>-0.213885</td>\n",
              "      <td>0.018319</td>\n",
              "    </tr>\n",
              "    <tr>\n",
              "      <th>1</th>\n",
              "      <td>0.450714</td>\n",
              "      <td>0.594480</td>\n",
              "      <td>0.265458</td>\n",
              "      <td>0.329021</td>\n",
              "      <td>0.605884</td>\n",
              "    </tr>\n",
              "    <tr>\n",
              "      <th>2</th>\n",
              "      <td>0.231994</td>\n",
              "      <td>0.166052</td>\n",
              "      <td>0.265458</td>\n",
              "      <td>-0.099407</td>\n",
              "      <td>0.215784</td>\n",
              "    </tr>\n",
              "    <tr>\n",
              "      <th>3</th>\n",
              "      <td>0.098658</td>\n",
              "      <td>-0.070178</td>\n",
              "      <td>0.265458</td>\n",
              "      <td>-0.335636</td>\n",
              "      <td>0.018319</td>\n",
              "    </tr>\n",
              "    <tr>\n",
              "      <th>4</th>\n",
              "      <td>-0.343981</td>\n",
              "      <td>0.343986</td>\n",
              "      <td>0.265458</td>\n",
              "      <td>0.078528</td>\n",
              "      <td>0.305964</td>\n",
              "    </tr>\n",
              "    <tr>\n",
              "      <th>...</th>\n",
              "      <td>...</td>\n",
              "      <td>...</td>\n",
              "      <td>...</td>\n",
              "      <td>...</td>\n",
              "      <td>...</td>\n",
              "    </tr>\n",
              "    <tr>\n",
              "      <th>95</th>\n",
              "      <td>-0.006204</td>\n",
              "      <td>-0.040675</td>\n",
              "      <td>0.265458</td>\n",
              "      <td>-0.306133</td>\n",
              "      <td>0.018319</td>\n",
              "    </tr>\n",
              "    <tr>\n",
              "      <th>96</th>\n",
              "      <td>0.022733</td>\n",
              "      <td>-0.002305</td>\n",
              "      <td>0.265458</td>\n",
              "      <td>-0.267763</td>\n",
              "      <td>0.018319</td>\n",
              "    </tr>\n",
              "    <tr>\n",
              "      <th>97</th>\n",
              "      <td>-0.072459</td>\n",
              "      <td>0.032809</td>\n",
              "      <td>0.265458</td>\n",
              "      <td>-0.232650</td>\n",
              "      <td>0.018319</td>\n",
              "    </tr>\n",
              "    <tr>\n",
              "      <th>98</th>\n",
              "      <td>-0.474581</td>\n",
              "      <td>0.689516</td>\n",
              "      <td>0.265458</td>\n",
              "      <td>0.424057</td>\n",
              "      <td>0.660912</td>\n",
              "    </tr>\n",
              "    <tr>\n",
              "      <th>99</th>\n",
              "      <td>-0.392109</td>\n",
              "      <td>0.502607</td>\n",
              "      <td>0.265458</td>\n",
              "      <td>0.237148</td>\n",
              "      <td>0.487796</td>\n",
              "    </tr>\n",
              "  </tbody>\n",
              "</table>\n",
              "<p>100 rows × 5 columns</p>\n",
              "</div>"
            ],
            "text/plain": [
              "           X         y      pre1      res1      pre2\n",
              "0  -0.125460  0.051573  0.265458 -0.213885  0.018319\n",
              "1   0.450714  0.594480  0.265458  0.329021  0.605884\n",
              "2   0.231994  0.166052  0.265458 -0.099407  0.215784\n",
              "3   0.098658 -0.070178  0.265458 -0.335636  0.018319\n",
              "4  -0.343981  0.343986  0.265458  0.078528  0.305964\n",
              "..       ...       ...       ...       ...       ...\n",
              "95 -0.006204 -0.040675  0.265458 -0.306133  0.018319\n",
              "96  0.022733 -0.002305  0.265458 -0.267763  0.018319\n",
              "97 -0.072459  0.032809  0.265458 -0.232650  0.018319\n",
              "98 -0.474581  0.689516  0.265458  0.424057  0.660912\n",
              "99 -0.392109  0.502607  0.265458  0.237148  0.487796\n",
              "\n",
              "[100 rows x 5 columns]"
            ]
          },
          "metadata": {
            "tags": []
          },
          "execution_count": 17
        }
      ]
    },
    {
      "cell_type": "code",
      "metadata": {
        "id": "HPRqolQ8ih7t"
      },
      "source": [
        "df['res2'] = df['y'] - df['pre2']"
      ],
      "execution_count": 28,
      "outputs": []
    },
    {
      "cell_type": "code",
      "metadata": {
        "colab": {
          "base_uri": "https://localhost:8080/",
          "height": 408
        },
        "id": "oFaReIF6i5XV",
        "outputId": "68b1eab0-2633-4c1d-f19b-81d3485818a1"
      },
      "source": [
        "df"
      ],
      "execution_count": 29,
      "outputs": [
        {
          "output_type": "execute_result",
          "data": {
            "text/html": [
              "<div>\n",
              "<style scoped>\n",
              "    .dataframe tbody tr th:only-of-type {\n",
              "        vertical-align: middle;\n",
              "    }\n",
              "\n",
              "    .dataframe tbody tr th {\n",
              "        vertical-align: top;\n",
              "    }\n",
              "\n",
              "    .dataframe thead th {\n",
              "        text-align: right;\n",
              "    }\n",
              "</style>\n",
              "<table border=\"1\" class=\"dataframe\">\n",
              "  <thead>\n",
              "    <tr style=\"text-align: right;\">\n",
              "      <th></th>\n",
              "      <th>X</th>\n",
              "      <th>y</th>\n",
              "      <th>pre1</th>\n",
              "      <th>res1</th>\n",
              "      <th>pre2</th>\n",
              "      <th>res2</th>\n",
              "    </tr>\n",
              "  </thead>\n",
              "  <tbody>\n",
              "    <tr>\n",
              "      <th>0</th>\n",
              "      <td>-0.125460</td>\n",
              "      <td>0.051573</td>\n",
              "      <td>0.265458</td>\n",
              "      <td>-0.213885</td>\n",
              "      <td>0.018319</td>\n",
              "      <td>0.033254</td>\n",
              "    </tr>\n",
              "    <tr>\n",
              "      <th>1</th>\n",
              "      <td>0.450714</td>\n",
              "      <td>0.594480</td>\n",
              "      <td>0.265458</td>\n",
              "      <td>0.329021</td>\n",
              "      <td>0.605884</td>\n",
              "      <td>-0.011404</td>\n",
              "    </tr>\n",
              "    <tr>\n",
              "      <th>2</th>\n",
              "      <td>0.231994</td>\n",
              "      <td>0.166052</td>\n",
              "      <td>0.265458</td>\n",
              "      <td>-0.099407</td>\n",
              "      <td>0.215784</td>\n",
              "      <td>-0.049732</td>\n",
              "    </tr>\n",
              "    <tr>\n",
              "      <th>3</th>\n",
              "      <td>0.098658</td>\n",
              "      <td>-0.070178</td>\n",
              "      <td>0.265458</td>\n",
              "      <td>-0.335636</td>\n",
              "      <td>0.018319</td>\n",
              "      <td>-0.088497</td>\n",
              "    </tr>\n",
              "    <tr>\n",
              "      <th>4</th>\n",
              "      <td>-0.343981</td>\n",
              "      <td>0.343986</td>\n",
              "      <td>0.265458</td>\n",
              "      <td>0.078528</td>\n",
              "      <td>0.305964</td>\n",
              "      <td>0.038022</td>\n",
              "    </tr>\n",
              "    <tr>\n",
              "      <th>...</th>\n",
              "      <td>...</td>\n",
              "      <td>...</td>\n",
              "      <td>...</td>\n",
              "      <td>...</td>\n",
              "      <td>...</td>\n",
              "      <td>...</td>\n",
              "    </tr>\n",
              "    <tr>\n",
              "      <th>95</th>\n",
              "      <td>-0.006204</td>\n",
              "      <td>-0.040675</td>\n",
              "      <td>0.265458</td>\n",
              "      <td>-0.306133</td>\n",
              "      <td>0.018319</td>\n",
              "      <td>-0.058994</td>\n",
              "    </tr>\n",
              "    <tr>\n",
              "      <th>96</th>\n",
              "      <td>0.022733</td>\n",
              "      <td>-0.002305</td>\n",
              "      <td>0.265458</td>\n",
              "      <td>-0.267763</td>\n",
              "      <td>0.018319</td>\n",
              "      <td>-0.020624</td>\n",
              "    </tr>\n",
              "    <tr>\n",
              "      <th>97</th>\n",
              "      <td>-0.072459</td>\n",
              "      <td>0.032809</td>\n",
              "      <td>0.265458</td>\n",
              "      <td>-0.232650</td>\n",
              "      <td>0.018319</td>\n",
              "      <td>0.014489</td>\n",
              "    </tr>\n",
              "    <tr>\n",
              "      <th>98</th>\n",
              "      <td>-0.474581</td>\n",
              "      <td>0.689516</td>\n",
              "      <td>0.265458</td>\n",
              "      <td>0.424057</td>\n",
              "      <td>0.660912</td>\n",
              "      <td>0.028604</td>\n",
              "    </tr>\n",
              "    <tr>\n",
              "      <th>99</th>\n",
              "      <td>-0.392109</td>\n",
              "      <td>0.502607</td>\n",
              "      <td>0.265458</td>\n",
              "      <td>0.237148</td>\n",
              "      <td>0.487796</td>\n",
              "      <td>0.014810</td>\n",
              "    </tr>\n",
              "  </tbody>\n",
              "</table>\n",
              "<p>100 rows × 6 columns</p>\n",
              "</div>"
            ],
            "text/plain": [
              "           X         y      pre1      res1      pre2      res2\n",
              "0  -0.125460  0.051573  0.265458 -0.213885  0.018319  0.033254\n",
              "1   0.450714  0.594480  0.265458  0.329021  0.605884 -0.011404\n",
              "2   0.231994  0.166052  0.265458 -0.099407  0.215784 -0.049732\n",
              "3   0.098658 -0.070178  0.265458 -0.335636  0.018319 -0.088497\n",
              "4  -0.343981  0.343986  0.265458  0.078528  0.305964  0.038022\n",
              "..       ...       ...       ...       ...       ...       ...\n",
              "95 -0.006204 -0.040675  0.265458 -0.306133  0.018319 -0.058994\n",
              "96  0.022733 -0.002305  0.265458 -0.267763  0.018319 -0.020624\n",
              "97 -0.072459  0.032809  0.265458 -0.232650  0.018319  0.014489\n",
              "98 -0.474581  0.689516  0.265458  0.424057  0.660912  0.028604\n",
              "99 -0.392109  0.502607  0.265458  0.237148  0.487796  0.014810\n",
              "\n",
              "[100 rows x 6 columns]"
            ]
          },
          "metadata": {
            "tags": []
          },
          "execution_count": 29
        }
      ]
    },
    {
      "cell_type": "code",
      "metadata": {
        "id": "6VfcebMZi6I1"
      },
      "source": [
        "tree2 = DecisionTreeRegressor(max_leaf_nodes=8)"
      ],
      "execution_count": 30,
      "outputs": []
    },
    {
      "cell_type": "code",
      "metadata": {
        "colab": {
          "base_uri": "https://localhost:8080/"
        },
        "id": "4OLND2zyjD51",
        "outputId": "adfd999a-be98-4318-d201-bbdbd33a6159"
      },
      "source": [
        "tree2.fit(df['X'].values.reshape(100,1),df['res2'].values)"
      ],
      "execution_count": 31,
      "outputs": [
        {
          "output_type": "execute_result",
          "data": {
            "text/plain": [
              "DecisionTreeRegressor(ccp_alpha=0.0, criterion='mse', max_depth=None,\n",
              "                      max_features=None, max_leaf_nodes=8,\n",
              "                      min_impurity_decrease=0.0, min_impurity_split=None,\n",
              "                      min_samples_leaf=1, min_samples_split=2,\n",
              "                      min_weight_fraction_leaf=0.0, presort='deprecated',\n",
              "                      random_state=None, splitter='best')"
            ]
          },
          "metadata": {
            "tags": []
          },
          "execution_count": 31
        }
      ]
    },
    {
      "cell_type": "code",
      "metadata": {
        "colab": {
          "base_uri": "https://localhost:8080/",
          "height": 298
        },
        "id": "6M_hSffbjJBl",
        "outputId": "fa48789f-7b0b-4572-e8e3-07f8139def44"
      },
      "source": [
        "plt.figure(figsize=(14,4))\n",
        "plt.subplot(121)\n",
        "plt.scatter(df['X'],df['y'])\n",
        "plt.title('X vs Y')\n",
        "\n",
        "plt.subplot(122)\n",
        "plt.scatter(df['X'],df['res2'])\n",
        "plt.title('X vs res2')"
      ],
      "execution_count": 66,
      "outputs": [
        {
          "output_type": "execute_result",
          "data": {
            "text/plain": [
              "Text(0.5, 1.0, 'X vs res2')"
            ]
          },
          "metadata": {
            "tags": []
          },
          "execution_count": 66
        },
        {
          "output_type": "display_data",
          "data": {
            "image/png": "[encoded data removed]",
            "text/plain": [
              "<Figure size 1008x288 with 2 Axes>"
            ]
          },
          "metadata": {
            "tags": [],
            "needs_background": "light"
          }
        }
      ]
    },
    {
      "cell_type": "code",
      "metadata": {
        "id": "S_enS_gpjOlJ"
      },
      "source": [
        "y_pred = 0.265458 + sum(regressor.predict(X_test.reshape(-1, 1)) for regressor in [tree1,tree2])"
      ],
      "execution_count": 32,
      "outputs": []
    },
    {
      "cell_type": "code",
      "metadata": {
        "colab": {
          "base_uri": "https://localhost:8080/",
          "height": 298
        },
        "id": "tNz6xOm0jYa1",
        "outputId": "9dadc607-bcdf-4a6c-e8d5-219e5ef5032d"
      },
      "source": [
        "plt.figure(figsize=(14,4))\n",
        "plt.subplot(121)\n",
        "plt.plot(X_test, y_pred, linewidth=2,color='red')\n",
        "plt.scatter(df['X'],df['y'])\n",
        "plt.title('X vs y')"
      ],
      "execution_count": 33,
      "outputs": [
        {
          "output_type": "execute_result",
          "data": {
            "text/plain": [
              "Text(0.5, 1.0, 'X vs y')"
            ]
          },
          "metadata": {
            "tags": []
          },
          "execution_count": 33
        },
        {
          "output_type": "display_data",
          "data": {
            "image/png": "[encoded data removed]",
            "text/plain": [
              "<Figure size 1008x288 with 1 Axes>"
            ]
          },
          "metadata": {
            "tags": [],
            "needs_background": "light"
          }
        }
      ]
    },
    {
      "cell_type": "code",
      "metadata": {
        "id": "e744L8_QjbMZ"
      },
      "source": [
        ""
      ],
      "execution_count": null,
      "outputs": []
    }
  ]
}