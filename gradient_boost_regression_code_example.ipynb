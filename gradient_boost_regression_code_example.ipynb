{
  "nbformat": 4,
  "nbformat_minor": 0,
  "metadata": {
    "colab": {
      "name": "gradient-boost-regression-code-example.ipynb",
      "provenance": []
    },
    "kernelspec": {
      "name": "python3",
      "display_name": "Python 3"
    },
    "language_info": {
      "name": "python"
    }
  },
  "cells": [
    {
      "cell_type": "code",
      "metadata": {
        "id": "r36HaLv22U1A"
      },
      "source": [
        "from sklearn.datasets import load_boston\n",
        "import numpy as np"
      ],
      "execution_count": null,
      "outputs": []
    },
    {
      "cell_type": "code",
      "metadata": {
        "id": "OifJZSbK2kI6"
      },
      "source": [
        "X, y = load_boston(return_X_y=True)"
      ],
      "execution_count": null,
      "outputs": []
    },
    {
      "cell_type": "code",
      "metadata": {
        "colab": {
          "base_uri": "https://localhost:8080/"
        },
        "id": "DAYUnMS727Ki",
        "outputId": "9f3f171a-dd3c-4ed9-ac2c-88bd9755817c"
      },
      "source": [
        "X.shape"
      ],
      "execution_count": null,
      "outputs": [
        {
          "output_type": "execute_result",
          "data": {
            "text/plain": [
              "(506, 13)"
            ]
          },
          "metadata": {
            "tags": []
          },
          "execution_count": 36
        }
      ]
    },
    {
      "cell_type": "code",
      "metadata": {
        "colab": {
          "base_uri": "https://localhost:8080/"
        },
        "id": "qHXh65KW28fV",
        "outputId": "3117feec-0ca4-4b02-97f0-379988482e16"
      },
      "source": [
        "y.shape"
      ],
      "execution_count": null,
      "outputs": [
        {
          "output_type": "execute_result",
          "data": {
            "text/plain": [
              "(506,)"
            ]
          },
          "metadata": {
            "tags": []
          },
          "execution_count": 37
        }
      ]
    },
    {
      "cell_type": "code",
      "metadata": {
        "id": "EhMRnzwi2-Id"
      },
      "source": [
        "from sklearn.ensemble import GradientBoostingRegressor\n",
        "from sklearn.svm import SVR\n",
        "from sklearn.ensemble import RandomForestRegressor\n",
        "from sklearn.linear_model import LinearRegression"
      ],
      "execution_count": null,
      "outputs": []
    },
    {
      "cell_type": "code",
      "metadata": {
        "id": "CCwzwrv73NmI"
      },
      "source": [
        "gbr = GradientBoostingRegressor()\n",
        "svr = SVR()\n",
        "rfr = RandomForestRegressor()\n",
        "lr = LinearRegression()"
      ],
      "execution_count": null,
      "outputs": []
    },
    {
      "cell_type": "code",
      "metadata": {
        "id": "amlqzPki3o2B"
      },
      "source": [
        "from sklearn.model_selection import cross_val_score"
      ],
      "execution_count": null,
      "outputs": []
    },
    {
      "cell_type": "code",
      "metadata": {
        "colab": {
          "base_uri": "https://localhost:8080/"
        },
        "id": "44iybGm8332x",
        "outputId": "384dbbeb-4e1a-4d71-e327-afbf17195e7d"
      },
      "source": [
        "print(\"Gradient Boost\",np.mean(cross_val_score(gbr,X,y,cv=10)))\n",
        "print(\"Linear Regression\",np.mean(cross_val_score(lr,X,y,cv=10)))\n",
        "print(\"SVM\",np.mean(cross_val_score(svr,X,y,cv=10)))\n",
        "print(\"Random Forest\",np.mean(cross_val_score(rfr,X,y,cv=10)))"
      ],
      "execution_count": null,
      "outputs": [
        {
          "output_type": "stream",
          "text": [
            "Gradient Boost 0.44748991823729034\n",
            "Linear Regression 0.2025289900605586\n",
            "SVM -0.4109699157425082\n",
            "Random Forest 0.48088385877398443\n"
          ],
          "name": "stdout"
        }
      ]
    },
    {
      "cell_type": "code",
      "metadata": {
        "id": "w4rYj3vG3_Sx"
      },
      "source": [
        "from sklearn.model_selection import GridSearchCV"
      ],
      "execution_count": null,
      "outputs": []
    },
    {
      "cell_type": "code",
      "metadata": {
        "id": "cw6dlRLr6BKW"
      },
      "source": [
        "params = {\n",
        "    'loss':['ls', 'lad', 'huber', 'quantile'],\n",
        "    'learning_rate':[0.1,0.5,1.0],\n",
        "    'n_estimators':[10,50,100,200,300],\n",
        "    'subsample':[0.5,0.75,1.0]\n",
        "}"
      ],
      "execution_count": null,
      "outputs": []
    },
    {
      "cell_type": "code",
      "metadata": {
        "id": "DWCGSg6I6g3Z"
      },
      "source": [
        "grid = GridSearchCV(estimator=GradientBoostingRegressor(),param_grid=params,cv=10)"
      ],
      "execution_count": null,
      "outputs": []
    },
    {
      "cell_type": "code",
      "metadata": {
        "colab": {
          "base_uri": "https://localhost:8080/"
        },
        "id": "ILQl6Lqi6ow0",
        "outputId": "23dea6ec-257b-459c-a104-cb88bcbdd3b1"
      },
      "source": [
        "grid.fit(X,y)"
      ],
      "execution_count": null,
      "outputs": [
        {
          "output_type": "execute_result",
          "data": {
            "text/plain": [
              "GridSearchCV(cv=10, error_score=nan,\n",
              "             estimator=GradientBoostingRegressor(alpha=0.9, ccp_alpha=0.0,\n",
              "                                                 criterion='friedman_mse',\n",
              "                                                 init=None, learning_rate=0.1,\n",
              "                                                 loss='ls', max_depth=3,\n",
              "                                                 max_features=None,\n",
              "                                                 max_leaf_nodes=None,\n",
              "                                                 min_impurity_decrease=0.0,\n",
              "                                                 min_impurity_split=None,\n",
              "                                                 min_samples_leaf=1,\n",
              "                                                 min_samples_split=2,\n",
              "                                                 min_weight_fraction_leaf=0.0,\n",
              "                                                 n_estimators=100,\n",
              "                                                 n_iter_...\n",
              "                                                 random_state=None,\n",
              "                                                 subsample=1.0, tol=0.0001,\n",
              "                                                 validation_fraction=0.1,\n",
              "                                                 verbose=0, warm_start=False),\n",
              "             iid='deprecated', n_jobs=None,\n",
              "             param_grid={'learning_rate': [0.1, 0.5, 1.0],\n",
              "                         'loss': ['ls', 'lad', 'huber', 'quantile'],\n",
              "                         'n_estimators': [10, 50, 100, 200, 300],\n",
              "                         'subsample': [0.5, 0.75, 1.0]},\n",
              "             pre_dispatch='2*n_jobs', refit=True, return_train_score=False,\n",
              "             scoring=None, verbose=0)"
            ]
          },
          "metadata": {
            "tags": []
          },
          "execution_count": 17
        }
      ]
    },
    {
      "cell_type": "code",
      "metadata": {
        "colab": {
          "base_uri": "https://localhost:8080/"
        },
        "id": "mAepw6Dy641x",
        "outputId": "2027d54a-f9c3-411c-aa8f-58f564df080c"
      },
      "source": [
        "grid.best_score_"
      ],
      "execution_count": null,
      "outputs": [
        {
          "output_type": "execute_result",
          "data": {
            "text/plain": [
              "0.5919027646232389"
            ]
          },
          "metadata": {
            "tags": []
          },
          "execution_count": 18
        }
      ]
    },
    {
      "cell_type": "code",
      "metadata": {
        "colab": {
          "base_uri": "https://localhost:8080/"
        },
        "id": "-LXUFFsp8_ql",
        "outputId": "1c2d7154-3661-4def-f546-d163e162f8b6"
      },
      "source": [
        "grid.best_params_"
      ],
      "execution_count": null,
      "outputs": [
        {
          "output_type": "execute_result",
          "data": {
            "text/plain": [
              "{'learning_rate': 0.1, 'loss': 'huber', 'n_estimators': 50, 'subsample': 0.5}"
            ]
          },
          "metadata": {
            "tags": []
          },
          "execution_count": 19
        }
      ]
    },
    {
      "cell_type": "code",
      "metadata": {
        "id": "TxZ2BNXm9GBl"
      },
      "source": [
        "from mlxtend.regressor import StackingCVRegressor"
      ],
      "execution_count": null,
      "outputs": []
    },
    {
      "cell_type": "code",
      "metadata": {
        "id": "1DGhM6dm92yQ"
      },
      "source": [
        "gbr1 = GradientBoostingRegressor(loss='huber',n_estimators=50,subsample=0.5)"
      ],
      "execution_count": null,
      "outputs": []
    },
    {
      "cell_type": "code",
      "metadata": {
        "id": "gkvtfRz-9xcN"
      },
      "source": [
        "stack = StackingCVRegressor(regressors=(lr, rfr, svr),\n",
        "                            meta_regressor=gbr1)"
      ],
      "execution_count": null,
      "outputs": []
    },
    {
      "cell_type": "code",
      "metadata": {
        "colab": {
          "base_uri": "https://localhost:8080/"
        },
        "id": "e5y1_LJ8-Kmp",
        "outputId": "299418d1-b94b-4e3f-ede0-8d5ac481c5ea"
      },
      "source": [
        "np.mean(cross_val_score(stack, X, y, cv=10))"
      ],
      "execution_count": null,
      "outputs": [
        {
          "output_type": "execute_result",
          "data": {
            "text/plain": [
              "0.48884650548435726"
            ]
          },
          "metadata": {
            "tags": []
          },
          "execution_count": 33
        }
      ]
    },
    {
      "cell_type": "code",
      "metadata": {
        "id": "53QccvlV-TVN"
      },
      "source": [
        ""
      ],
      "execution_count": null,
      "outputs": []
    }
  ]
}